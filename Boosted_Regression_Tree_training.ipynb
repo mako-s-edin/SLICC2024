{
 "cells": [
  {
   "cell_type": "markdown",
   "id": "623bec43",
   "metadata": {},
   "source": [
    "# Boosted Regression Tree training \n",
    "- Author: Mako Shibata (s2471259@ed.ac.uk) \n",
    "- Date: 25/06/2024\n",
    "- Aim: Apply and understand boosted regression tree methods\n",
    "- Tutorial: https://lost-stats.github.io/Machine_Learning/boosted_regression_trees.html"
   ]
  },
  {
   "cell_type": "markdown",
   "id": "c56f115c",
   "metadata": {},
   "source": [
    "Supervised machine learning method that are trained using multiple ~ number of weak classifiers. It will adjust each predictor's influence on the final classifier and reduce uncertainty of the outcome. \n",
    "Some characteristics include: \n",
    "\n",
    "- Boosted trees can pass information from one tree to another whereas Random Forest cannot. \n",
    "- Each classifier is a simple decision tree. \n",
    "- This technique of combining multiple predictors is called \"ensembling\". \n"
   ]
  },
  {
   "cell_type": "code",
   "execution_count": 11,
   "id": "22e3049e",
   "metadata": {},
   "outputs": [
    {
     "name": "stdout",
     "output_type": "stream",
     "text": [
      "[[-5.52454344e-02  3.04238144e-01  1.80231839e+00 ... -1.09861210e+00\n",
      "   8.71592987e-01  1.88425086e+00]\n",
      " [-8.17702999e-01 -4.52334011e-01 -6.36446997e-01 ...  5.99830559e-01\n",
      "   1.86178052e-03 -1.20737347e+00]\n",
      " [-5.21170283e-01 -1.01484865e+00 -1.58060160e-02 ...  1.52341773e+00\n",
      "  -1.37689542e+00  2.00041358e+00]\n",
      " ...\n",
      " [-9.91916212e-02  6.21172040e-01  6.42234196e-01 ...  1.69870244e+00\n",
      "  -8.13363678e-01  2.96839626e-01]\n",
      " [ 1.35476426e+00  3.07950860e-01 -8.39196289e-01 ... -9.93897092e-01\n",
      "  -4.45705337e-01 -6.38623791e-01]\n",
      " [-7.43009922e-01  6.27902737e-03 -1.59169719e+00 ...  1.35726420e+00\n",
      "   1.29039993e+00  6.09259688e-01]]\n",
      "[  28.4533175    10.7089508    48.20977895 -214.81670566 -361.64449262\n",
      " -607.15892256   88.63701914  -22.733863    108.31950061   13.79200749\n",
      "  -67.47596873  264.15290617 -202.45986749  -54.22542142 -224.07035996\n",
      "  224.15819619 -104.74514213  169.02886463 -209.26685949 -214.43632466\n",
      "   23.34140176  -85.89736812 -301.45642538  102.5359325   -82.67793307\n",
      " -452.29132647   15.32937874   10.58169237  -67.06086397  470.44107758\n",
      " -132.84408816   99.63773324   36.15415794  202.18585089   74.19269921\n",
      " -350.82337116  132.35080214 -111.11039647  -76.68562422  -88.55909124\n",
      " -599.09794532 -437.65695098   34.53494841  -16.78785802  111.65525163\n",
      "  322.16321281 -114.6100646   195.42698701  -26.71638599   -4.67713388\n",
      "  100.51148407  -44.41162041   72.25196498   87.81143486 -495.36350967\n",
      " -104.57108472   58.81483336 -249.51380384   20.4616395    82.2607364\n",
      " -216.23213815   -8.33013982 -158.68532813 -210.13193545   -5.29150018\n",
      " -138.71620717 -153.21783548   24.11499059  348.52907866  -54.19967145\n",
      "  138.88825315  234.40337505   79.64555886  107.07435008  -45.91682446\n",
      " -338.02007259   -3.45724639  413.79542167 -166.9474885   197.55318329\n",
      "   28.32687939 -176.93911163  -29.24111022 -470.97561249 -244.92752759\n",
      "  216.9338898   323.53491907   44.19163899  236.55956005  247.34035115\n",
      "  120.05142574   55.01116674  -65.45867596 -210.36759521 -339.66710478\n",
      " -185.36327809  -95.80885935 -368.82210591  -71.26255269 -159.49357818]\n"
     ]
    }
   ],
   "source": [
    "# install scikit-learn using conda \n",
    "from sklearn.datasets import make_regression\n",
    "from sklearn.ensemble import GradientBoostingRegressor \n",
    "from sklearn.model_selection import train_test_split\n",
    "\n",
    "# generate some synthetic data \n",
    "X, y = make_regression()\n",
    "\n",
    "print(X)\n",
    "print(y)"
   ]
  },
  {
   "cell_type": "code",
   "execution_count": 23,
   "id": "43180c27",
   "metadata": {},
   "outputs": [
    {
     "name": "stdout",
     "output_type": "stream",
     "text": [
      "[[-2.21362212  0.7419133  -0.662548   ... -0.86681467 -0.93700379\n",
      "  -0.07720543]\n",
      " [ 3.30664159 -0.94773874 -0.54197581 ... -0.23229528 -1.78662322\n",
      "   1.09848952]\n",
      " [-0.86824725 -0.35477441  1.66037585 ...  3.49722971 -0.61980381\n",
      "  -1.23332267]\n",
      " ...\n",
      " [-1.19984504  0.87254857 -0.09118974 ... -0.70901104 -0.59112535\n",
      "   0.06460512]\n",
      " [ 1.07526607  0.50101922 -1.49543418 ...  1.18775056  0.10510677\n",
      "  -0.65712335]\n",
      " [-0.48604855  2.10984095  0.39428335 ... -0.233032   -0.44325019\n",
      "   0.36186579]]\n",
      "[[ 0.2065969  -0.52855856  0.49173243 ... -0.1190151  -0.9976995\n",
      "  -0.40198868]\n",
      " [ 0.27391653  0.03288849  0.46155937 ... -0.45803822  0.5474452\n",
      "  -0.68471199]\n",
      " [ 0.34777477 -0.77001906 -0.38582974 ...  1.84877211  0.14280116\n",
      "   2.16250197]\n",
      " ...\n",
      " [-0.67089464 -0.36941866 -0.74938349 ...  1.44818809  0.94807832\n",
      "  -0.97554056]\n",
      " [ 0.17705896  1.29653456 -0.39890742 ...  2.66007333  0.4835973\n",
      "   0.12850823]\n",
      " [ 0.67278084  2.2169736  -0.06263591 ...  0.51205328 -0.86854421\n",
      "   0.70678252]]\n",
      "[-249.51380384 -470.97561249  224.15819619  413.79542167  169.02886463\n",
      "  202.18585089  -26.71638599  470.44107758   74.19269921  100.51148407\n",
      "   28.4533175   -44.41162041 -216.23213815  -85.89736812 -209.26685949\n",
      " -495.36350967   48.20977895 -210.13193545  195.42698701  348.52907866\n",
      "   23.34140176  216.9338898   102.5359325    99.63773324   -3.45724639\n",
      "  -67.47596873  -76.68562422   87.81143486   20.4616395   247.34035115\n",
      " -158.68532813 -452.29132647 -214.43632466 -202.45986749 -176.93911163\n",
      "   13.79200749  322.16321281 -132.84408816 -138.71620717 -185.36327809\n",
      "  107.07435008  -67.06086397 -104.74514213 -607.15892256  234.40337505\n",
      "  236.55956005  120.05142574  264.15290617 -159.49357818   82.2607364\n",
      "   44.19163899  132.35080214   -5.29150018   10.58169237 -301.45642538\n",
      "  111.65525163  138.88825315  -65.45867596   58.81483336  -88.55909124\n",
      " -339.66710478  -29.24111022 -114.6100646  -599.09794532   34.53494841\n",
      "   36.15415794  -22.733863     -4.67713388 -111.11039647 -437.65695098\n",
      " -210.36759521 -368.82210591  323.53491907 -350.82337116   88.63701914]\n",
      "[-153.21783548   28.32687939   55.01116674  -54.22542142 -104.57108472\n",
      "  -16.78785802  -54.19967145   24.11499059   -8.33013982  -82.67793307\n",
      "   10.7089508    15.32937874  108.31950061  -71.26255269 -361.64449262\n",
      "   72.25196498  -45.91682446 -338.02007259 -244.92752759  -95.80885935\n",
      " -166.9474885   197.55318329 -224.07035996   79.64555886 -214.81670566]\n"
     ]
    }
   ],
   "source": [
    "# split synthetic data into train and test arrays\n",
    "X_train, X_test, y_train, y_test = train_test_split(X, y)\n",
    "\n",
    "# X...input data, y...actual target values\n",
    "print(X_train)\n",
    "print(X_test)\n",
    "print(y_train)\n",
    "print(y_test)"
   ]
  },
  {
   "cell_type": "code",
   "execution_count": 18,
   "id": "9fe1414f",
   "metadata": {},
   "outputs": [],
   "source": [
    "# set up the regression conditions \n",
    "# parametres should be experimented in each case. \n",
    "\n",
    "reg = GradientBoostingRegressor(n_estimators = 100, # the number of trees\n",
    "                               max_depth = 3, # the maximum number of nodes in each tree. Deeper (larger), the more precise but risks overfitting\n",
    "                               learning_rate = 0.1, # weight of contributions of each tree to the final classifier\n",
    "                               min_samples_split = 3 # smallest sample size for each tree to be split to internal nodes\n",
    "                               )"
   ]
  },
  {
   "cell_type": "code",
   "execution_count": 19,
   "id": "e8fc7c19",
   "metadata": {},
   "outputs": [
    {
     "data": {
      "text/html": [
       "<style>#sk-container-id-2 {color: black;}#sk-container-id-2 pre{padding: 0;}#sk-container-id-2 div.sk-toggleable {background-color: white;}#sk-container-id-2 label.sk-toggleable__label {cursor: pointer;display: block;width: 100%;margin-bottom: 0;padding: 0.3em;box-sizing: border-box;text-align: center;}#sk-container-id-2 label.sk-toggleable__label-arrow:before {content: \"▸\";float: left;margin-right: 0.25em;color: #696969;}#sk-container-id-2 label.sk-toggleable__label-arrow:hover:before {color: black;}#sk-container-id-2 div.sk-estimator:hover label.sk-toggleable__label-arrow:before {color: black;}#sk-container-id-2 div.sk-toggleable__content {max-height: 0;max-width: 0;overflow: hidden;text-align: left;background-color: #f0f8ff;}#sk-container-id-2 div.sk-toggleable__content pre {margin: 0.2em;color: black;border-radius: 0.25em;background-color: #f0f8ff;}#sk-container-id-2 input.sk-toggleable__control:checked~div.sk-toggleable__content {max-height: 200px;max-width: 100%;overflow: auto;}#sk-container-id-2 input.sk-toggleable__control:checked~label.sk-toggleable__label-arrow:before {content: \"▾\";}#sk-container-id-2 div.sk-estimator input.sk-toggleable__control:checked~label.sk-toggleable__label {background-color: #d4ebff;}#sk-container-id-2 div.sk-label input.sk-toggleable__control:checked~label.sk-toggleable__label {background-color: #d4ebff;}#sk-container-id-2 input.sk-hidden--visually {border: 0;clip: rect(1px 1px 1px 1px);clip: rect(1px, 1px, 1px, 1px);height: 1px;margin: -1px;overflow: hidden;padding: 0;position: absolute;width: 1px;}#sk-container-id-2 div.sk-estimator {font-family: monospace;background-color: #f0f8ff;border: 1px dotted black;border-radius: 0.25em;box-sizing: border-box;margin-bottom: 0.5em;}#sk-container-id-2 div.sk-estimator:hover {background-color: #d4ebff;}#sk-container-id-2 div.sk-parallel-item::after {content: \"\";width: 100%;border-bottom: 1px solid gray;flex-grow: 1;}#sk-container-id-2 div.sk-label:hover label.sk-toggleable__label {background-color: #d4ebff;}#sk-container-id-2 div.sk-serial::before {content: \"\";position: absolute;border-left: 1px solid gray;box-sizing: border-box;top: 0;bottom: 0;left: 50%;z-index: 0;}#sk-container-id-2 div.sk-serial {display: flex;flex-direction: column;align-items: center;background-color: white;padding-right: 0.2em;padding-left: 0.2em;position: relative;}#sk-container-id-2 div.sk-item {position: relative;z-index: 1;}#sk-container-id-2 div.sk-parallel {display: flex;align-items: stretch;justify-content: center;background-color: white;position: relative;}#sk-container-id-2 div.sk-item::before, #sk-container-id-2 div.sk-parallel-item::before {content: \"\";position: absolute;border-left: 1px solid gray;box-sizing: border-box;top: 0;bottom: 0;left: 50%;z-index: -1;}#sk-container-id-2 div.sk-parallel-item {display: flex;flex-direction: column;z-index: 1;position: relative;background-color: white;}#sk-container-id-2 div.sk-parallel-item:first-child::after {align-self: flex-end;width: 50%;}#sk-container-id-2 div.sk-parallel-item:last-child::after {align-self: flex-start;width: 50%;}#sk-container-id-2 div.sk-parallel-item:only-child::after {width: 0;}#sk-container-id-2 div.sk-dashed-wrapped {border: 1px dashed gray;margin: 0 0.4em 0.5em 0.4em;box-sizing: border-box;padding-bottom: 0.4em;background-color: white;}#sk-container-id-2 div.sk-label label {font-family: monospace;font-weight: bold;display: inline-block;line-height: 1.2em;}#sk-container-id-2 div.sk-label-container {text-align: center;}#sk-container-id-2 div.sk-container {/* jupyter's `normalize.less` sets `[hidden] { display: none; }` but bootstrap.min.css set `[hidden] { display: none !important; }` so we also need the `!important` here to be able to override the default hidden behavior on the sphinx rendered scikit-learn.org. See: https://github.com/scikit-learn/scikit-learn/issues/21755 */display: inline-block !important;position: relative;}#sk-container-id-2 div.sk-text-repr-fallback {display: none;}</style><div id=\"sk-container-id-2\" class=\"sk-top-container\"><div class=\"sk-text-repr-fallback\"><pre>GradientBoostingRegressor(min_samples_split=3)</pre><b>In a Jupyter environment, please rerun this cell to show the HTML representation or trust the notebook. <br />On GitHub, the HTML representation is unable to render, please try loading this page with nbviewer.org.</b></div><div class=\"sk-container\" hidden><div class=\"sk-item\"><div class=\"sk-estimator sk-toggleable\"><input class=\"sk-toggleable__control sk-hidden--visually\" id=\"sk-estimator-id-2\" type=\"checkbox\" checked><label for=\"sk-estimator-id-2\" class=\"sk-toggleable__label sk-toggleable__label-arrow\">GradientBoostingRegressor</label><div class=\"sk-toggleable__content\"><pre>GradientBoostingRegressor(min_samples_split=3)</pre></div></div></div></div></div>"
      ],
      "text/plain": [
       "GradientBoostingRegressor(min_samples_split=3)"
      ]
     },
     "execution_count": 19,
     "metadata": {},
     "output_type": "execute_result"
    }
   ],
   "source": [
    "# fit the model 'fit' means to train\n",
    "reg.fit(X_train, y_train)"
   ]
  },
  {
   "cell_type": "code",
   "execution_count": 20,
   "id": "ebb31d38",
   "metadata": {},
   "outputs": [
    {
     "data": {
      "text/plain": [
       "array([27.38868032])"
      ]
     },
     "execution_count": 20,
     "metadata": {},
     "output_type": "execute_result"
    }
   ],
   "source": [
    "# predict the value of the first test case\n",
    "reg.predict(X_test[:1])"
   ]
  },
  {
   "cell_type": "code",
   "execution_count": 22,
   "id": "bde7221e",
   "metadata": {},
   "outputs": [
    {
     "data": {
      "text/plain": [
       "0.30845894718563294"
      ]
     },
     "execution_count": 22,
     "metadata": {},
     "output_type": "execute_result"
    }
   ],
   "source": [
    "# R^2 score for the model (on the test data)\n",
    "reg.score(X_test, y_test) # model \"reg\" predicts 'X_test', and compares these values with the actual values \"y_test\""
   ]
  }
 ],
 "metadata": {
  "kernelspec": {
   "display_name": "Python 3 (ipykernel)",
   "language": "python",
   "name": "python3"
  },
  "language_info": {
   "codemirror_mode": {
    "name": "ipython",
    "version": 3
   },
   "file_extension": ".py",
   "mimetype": "text/x-python",
   "name": "python",
   "nbconvert_exporter": "python",
   "pygments_lexer": "ipython3",
   "version": "3.11.5"
  }
 },
 "nbformat": 4,
 "nbformat_minor": 5
}
